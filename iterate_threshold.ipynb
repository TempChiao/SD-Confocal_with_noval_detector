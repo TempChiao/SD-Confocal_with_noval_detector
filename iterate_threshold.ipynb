{
 "cells": [
  {
   "cell_type": "code",
   "execution_count": 66,
   "id": "b24dc369",
   "metadata": {},
   "outputs": [],
   "source": [
    "import numpy as np\n",
    "import pandas as pd\n",
    "import matplotlib.pyplot as plt\n",
    "import os\n",
    "import csv"
   ]
  },
  {
   "cell_type": "code",
   "execution_count": 67,
   "id": "0a5427c7",
   "metadata": {},
   "outputs": [],
   "source": [
    "\n",
    "def read_csv(path):\n",
    "    \"\"\"\n",
    "    Reads the CSV file and returns two lists: channelA and channelB.\n",
    "    :param blank_path: Path to the CSV file.\n",
    "    :return: Two lists containing the data from the CSV file.\n",
    "    \"\"\"\n",
    "    channelA = []  # List for channel A\n",
    "    channelB = []  # List for channel B\n",
    "\n",
    "        # Read the CSV file\n",
    "    with open(path) as csvDataFile:  # Opens the file as a CSV\n",
    "                csvReader = csv.reader(csvDataFile, delimiter='\\t')  # Assigns the loaded CSV file to csvReader.\n",
    "                for row in csvReader:\n",
    "                    channelA.append(row[0])  # For every row in in csvReader, the values are apended to green and red.\n",
    "                    channelB.append(row[1])\n",
    "\n",
    "    return channelA, channelB  # Returns the two lists containing the data from the CSV file."
   ]
  },
  {
   "cell_type": "code",
   "execution_count": 68,
   "id": "fb13d53f",
   "metadata": {},
   "outputs": [],
   "source": [
    "def test_threshold(sample):\n",
    "   \n",
    "    channelA, channelB = read_csv(sample)\n",
    "    channelA = np.array(channelA, dtype=float)  # Convert to numpy array and ensure float type\n",
    "    channelB = np.array(channelB, dtype=float)  # Convert to numpy array and ensure float type\n",
    "    # Initialize thresholds from 1 to 50\n",
    "    thresholds = range(1, 51)\n",
    "    results = []\n",
    "\n",
    "    file_basename = os.path.basename(sample)\n",
    "    \n",
    "    for t in thresholds:\n",
    "        count_A = np.sum(channelA > t)\n",
    "        count_B = np.sum(channelB > t)\n",
    "        # Store file name, threshold, and counts for A & B\n",
    "        results.append([file_basename, t, count_A, count_B])\n",
    "\n",
    "    return results \n",
    "    "
   ]
  },
  {
   "cell_type": "code",
   "execution_count": 69,
   "id": "47d28c08",
   "metadata": {},
   "outputs": [],
   "source": [
    "path = f'/Volumes/Tianxiao/20250513_Fluorescein/Cover_slip'\n",
    "file_path = os.listdir(path) # Lists all the files in the directory.\n",
    "with open(os.path.join(path,'Data.csv'),mode=\"w\", newline=\"\", encoding=\"utf-8\") as csvfile:\n",
    "    writer = csv.writer(csvfile)\n",
    "    header = ['Name','Threshold','# events']\n",
    "    writer.writerow(header)\n",
    "    for file in file_path:\n",
    "        if 'data' not in file:\n",
    "            sample = os.path.join(path, file) # Joins the path and the file name to create the full path.\n",
    "            data = test_threshold(sample)\n",
    "            for row in data:\n",
    "                writer.writerow(row)"
   ]
  },
  {
   "cell_type": "code",
   "execution_count": null,
   "id": "c69422b4",
   "metadata": {},
   "outputs": [],
   "source": []
  }
 ],
 "metadata": {
  "kernelspec": {
   "display_name": "base",
   "language": "python",
   "name": "python3"
  },
  "language_info": {
   "codemirror_mode": {
    "name": "ipython",
    "version": 3
   },
   "file_extension": ".py",
   "mimetype": "text/x-python",
   "name": "python",
   "nbconvert_exporter": "python",
   "pygments_lexer": "ipython3",
   "version": "3.10.14"
  }
 },
 "nbformat": 4,
 "nbformat_minor": 5
}
