{
 "cells": [
  {
   "cell_type": "code",
   "id": "initial_id",
   "metadata": {
    "collapsed": true,
    "ExecuteTime": {
     "end_time": "2025-04-15T10:08:28.190995Z",
     "start_time": "2025-04-15T10:08:28.182446Z"
    }
   },
   "source": [
    "import scipy.io\n",
    "import numpy as np\n",
    "from PIL import Image\n",
    "import matplotlib.pyplot as plt\n",
    "from skimage import filters,measure\n",
    "from skimage.filters import threshold_local\n",
    "import os\n",
    "import csv"
   ],
   "outputs": [],
   "execution_count": 75
  },
  {
   "metadata": {
    "ExecuteTime": {
     "end_time": "2025-04-15T10:08:28.200736Z",
     "start_time": "2025-04-15T10:08:28.197653Z"
    }
   },
   "cell_type": "code",
   "source": [
    "def generate_df(name):\n",
    "    data_array = []\n",
    "    mat = name\n",
    "    mat_data = scipy.io.loadmat(mat)\n",
    "    variable_name = 'all_pixxx_data'\n",
    "    specific_data = mat_data[variable_name]\n",
    "    data_array.append(specific_data)\n",
    "    return data_array"
   ],
   "id": "1b2b0e449d134059",
   "outputs": [],
   "execution_count": 76
  },
  {
   "metadata": {
    "ExecuteTime": {
     "end_time": "2025-04-15T10:08:28.220229Z",
     "start_time": "2025-04-15T10:08:28.212919Z"
    }
   },
   "cell_type": "code",
   "source": [
    "path = r\"/Volumes/Tianxiao/20250414_Laser_Power_Beads_Test/\"\n",
    "threshold = 10\n",
    "csv_filename = \"/Volumes/Tianxiao/20250414_Laser_Power_Beads_Test/my_data.csv\"\n",
    "with open(csv_filename, mode=\"a\", newline=\"\", encoding=\"utf-8\") as file:\n",
    "    writer = csv.writer(file)\n",
    "    writer.writerow([\"Conditon\",\"Ave_Intensity\",\"Max_Intensity\"])"
   ],
   "id": "f1a06cd9a04d05f6",
   "outputs": [],
   "execution_count": 77
  },
  {
   "metadata": {
    "ExecuteTime": {
     "end_time": "2025-04-15T11:25:18.462643Z",
     "start_time": "2025-04-15T11:25:16.468238Z"
    }
   },
   "cell_type": "code",
   "source": [
    "for root, dirs, files in os.walk(path):\n",
    "    for file in files:\n",
    "        if '.mat' in file:\n",
    "            if file[0] != '.':\n",
    "                power = file.split('_')[0]\n",
    "                data_array = np.array(generate_df(os.path.join(root,file)))\n",
    "                above_thresh_values = data_array[data_array > threshold]\n",
    "                if above_thresh_values.size > 0:\n",
    "                    mean_value = above_thresh_values.mean()\n",
    "                    max_value = above_thresh_values.max()\n",
    "                    print(\"Mean above threshold (NumPy) is:\", mean_value)\n",
    "                    csv_filename = \"/Volumes/Tianxiao/20250414_Laser_Power_Beads_Test/my_data.csv\"\n",
    "                    with open(csv_filename, mode=\"a\", newline=\"\", encoding=\"utf-8\") as file:\n",
    "                        writer = csv.writer(file)\n",
    "                        writer.writerow([power,mean_value,max_value])\n",
    "                else:\n",
    "                    print(\"No values exceed the threshold.\")\n"
   ],
   "id": "de5f5363eac879ec",
   "outputs": [
    {
     "name": "stdout",
     "output_type": "stream",
     "text": [
      "Mean above threshold (NumPy) is: 25.868947368421054\n",
      "Mean above threshold (NumPy) is: 28.11884782608696\n",
      "Mean above threshold (NumPy) is: 31.559825268817203\n",
      "Mean above threshold (NumPy) is: 35.227565011820325\n",
      "Mean above threshold (NumPy) is: 38.111739130434785\n",
      "Mean above threshold (NumPy) is: 20.518290155440415\n",
      "Mean above threshold (NumPy) is: 10.832045454545455\n"
     ]
    }
   ],
   "execution_count": 79
  },
  {
   "metadata": {
    "ExecuteTime": {
     "end_time": "2025-04-15T11:38:24.261850Z",
     "start_time": "2025-04-15T11:38:24.258312Z"
    }
   },
   "cell_type": "code",
   "source": [
    "def load_files(filename):\n",
    "    channelA = []\n",
    "    channelB = []  # Where channel B data will be stored\n",
    "    with open(filename) as csvDataFile:  # Opens the file as a CSV\n",
    "        csvReader = csv.reader(csvDataFile, delimiter='\\t')  # Assigns the loaded CSV file to csvReader.\n",
    "        for row in csvReader:\n",
    "            channelA.append(row[0])  # For every row in in csvReader, the values are apended to green and red.\n",
    "            channelB.append(row[1])\n",
    "\n",
    "    channelA_arr = np.asarray(channelA, dtype=np.float32)  # Converts these to numpy arrays for vector calcs.\n",
    "    channelB_arr = np.asarray(channelB, dtype=np.float32)\n",
    "    return channelA_arr"
   ],
   "id": "5d200a521a23d161",
   "outputs": [],
   "execution_count": 93
  },
  {
   "metadata": {
    "ExecuteTime": {
     "end_time": "2025-04-15T11:55:16.990128Z",
     "start_time": "2025-04-15T11:55:15.194539Z"
    }
   },
   "cell_type": "code",
   "source": [
    "path = r'/Volumes/Tianxiao/20250415_laser/'\n",
    "threshold = 20\n",
    "for root, dirs, files in os.walk(path):\n",
    "    for file in files:\n",
    "        if 'mW' in file:\n",
    "            name = file\n",
    "            green  = load_files(os.path.join(root,file))\n",
    "            real_green = green[green > threshold]\n",
    "            if real_green.size > 0:\n",
    "                mean_green = real_green.mean()\n",
    "                max_green = real_green.max()\n",
    "                print(\"Mean above threshold (NumPy) is:\", mean_green)\n",
    "                csv_filename = \"/Volumes/Tianxiao/20250415_laser/my_data.csv\"\n",
    "                with open(csv_filename, mode=\"a\", newline=\"\", encoding=\"utf-8\") as file:\n",
    "                    writer = csv.writer(file)\n",
    "                    writer.writerow([name,mean_green,max_green])\n",
    "            else:\n",
    "                print(\"No values exceed the threshold.\")\n"
   ],
   "id": "e2abc15074db0677",
   "outputs": [
    {
     "name": "stdout",
     "output_type": "stream",
     "text": [
      "No values exceed the threshold.\n",
      "Mean above threshold (NumPy) is: 50.55651\n",
      "Mean above threshold (NumPy) is: 56.030476\n",
      "Mean above threshold (NumPy) is: 60.68014\n",
      "Mean above threshold (NumPy) is: 63.498608\n",
      "Mean above threshold (NumPy) is: 64.595566\n",
      "Mean above threshold (NumPy) is: 65.398026\n",
      "Mean above threshold (NumPy) is: 65.17425\n",
      "Mean above threshold (NumPy) is: 58.962154\n",
      "Mean above threshold (NumPy) is: 63.53174\n",
      "Mean above threshold (NumPy) is: 64.91377\n"
     ]
    }
   ],
   "execution_count": 106
  }
 ],
 "metadata": {
  "kernelspec": {
   "display_name": "Python 3",
   "language": "python",
   "name": "python3"
  },
  "language_info": {
   "codemirror_mode": {
    "name": "ipython",
    "version": 2
   },
   "file_extension": ".py",
   "mimetype": "text/x-python",
   "name": "python",
   "nbconvert_exporter": "python",
   "pygments_lexer": "ipython2",
   "version": "2.7.6"
  }
 },
 "nbformat": 4,
 "nbformat_minor": 5
}
